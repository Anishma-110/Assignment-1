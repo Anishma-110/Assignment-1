{
  "nbformat": 4,
  "nbformat_minor": 0,
  "metadata": {
    "colab": {
      "provenance": []
    },
    "kernelspec": {
      "name": "python3",
      "display_name": "Python 3"
    },
    "language_info": {
      "name": "python"
    }
  },
  "cells": [
    {
      "cell_type": "markdown",
      "source": [
        "1"
      ],
      "metadata": {
        "id": "TPpa5AucZMgQ"
      }
    },
    {
      "cell_type": "code",
      "metadata": {
        "colab": {
          "base_uri": "https://localhost:8080/"
        },
        "id": "c6c0771c",
        "outputId": "13a03821-7775-4e1e-ebbc-eba03cfe2449"
      },
      "source": [
        "def range(a):\n",
        "  maximum=max(a)\n",
        "  minimum=min(a)\n",
        "  return maximum,minimum\n",
        "\n",
        "a=[2,4,5,13,4,9]\n",
        "maximum,minimum = range(a)\n",
        "print(\"Range = \",maximum,minimum)\n"
      ],
      "execution_count": null,
      "outputs": [
        {
          "output_type": "stream",
          "name": "stdout",
          "text": [
            "Range =  13 2\n"
          ]
        }
      ]
    },
    {
      "cell_type": "markdown",
      "source": [
        "2"
      ],
      "metadata": {
        "id": "ZTmQaSqTZOyg"
      }
    },
    {
      "cell_type": "code",
      "source": [
        "def mean_value(numbers):\n",
        "  if not numbers:\n",
        "    return None\n",
        "  total = sum(numbers)\n",
        "  mean = total / len(numbers)\n",
        "  return mean\n",
        "numbers=[2,43,67,8]\n",
        "mean = mean_value(numbers)\n",
        "print(\"Mean value = \",mean)\n"
      ],
      "metadata": {
        "colab": {
          "base_uri": "https://localhost:8080/"
        },
        "id": "BfrlKTQmYH4x",
        "outputId": "95e4506a-d305-48cf-fb1f-77372f292bdc"
      },
      "execution_count": null,
      "outputs": [
        {
          "output_type": "stream",
          "name": "stdout",
          "text": [
            "Mean value =  30.0\n"
          ]
        }
      ]
    },
    {
      "cell_type": "markdown",
      "source": [
        "3"
      ],
      "metadata": {
        "id": "GFQoCq3qZQdY"
      }
    },
    {
      "cell_type": "code",
      "source": [
        "def median_value(num):\n",
        "  if not numbers:\n",
        "    return None\n",
        "  x = sorted(num)\n",
        "  l = len(num)\n",
        "  if l%2==0:\n",
        "   median=(num[l//2]+num[l//2])/2\n",
        "  else:\n",
        "   median=num[l//2]\n",
        "  return median\n",
        "num=[2,3,5,6,7,9]\n",
        "median=median_value(num)\n",
        "print(\"Median:\",median)"
      ],
      "metadata": {
        "colab": {
          "base_uri": "https://localhost:8080/"
        },
        "id": "J_-_x4EVY06I",
        "outputId": "b4cd7812-11a7-4832-f5d4-c2cfb3328696"
      },
      "execution_count": null,
      "outputs": [
        {
          "output_type": "stream",
          "name": "stdout",
          "text": [
            "Median: 6.0\n"
          ]
        }
      ]
    },
    {
      "cell_type": "markdown",
      "source": [
        "4"
      ],
      "metadata": {
        "id": "jK_N07dicwjg"
      }
    },
    {
      "cell_type": "code",
      "source": [],
      "metadata": {
        "id": "J4VfrNNdbIjh"
      },
      "execution_count": null,
      "outputs": []
    },
    {
      "cell_type": "markdown",
      "source": [
        "5"
      ],
      "metadata": {
        "id": "82_fIuqYfgEQ"
      }
    },
    {
      "cell_type": "code",
      "source": [
        "def percentile_value(p):\n",
        "    x = sorted(p)\n",
        "    n = len(x)\n",
        "    perc = 90 / 100 * (n - 1)\n",
        "    y = int(perc)\n",
        "    fraction = perc - y\n",
        "\n",
        "    if y + 1 < n:\n",
        "        m = x[y] + fraction * (x[y + 1] - x[y])\n",
        "\n",
        "\n",
        "    return perc, y, m\n",
        "\n",
        "x = [10, 20, 30, 40, 50]\n",
        "perc, y, m = percentile_value(x)\n",
        "print(\"Percentile position (float):\", perc)\n",
        "print(\"Lower index used:\", y)\n",
        "print(\"Interpolated 90th Percentile value:\", m)\n"
      ],
      "metadata": {
        "colab": {
          "base_uri": "https://localhost:8080/"
        },
        "id": "WDXMr6AkhbTQ",
        "outputId": "810bbcf8-506e-4ff8-80e1-390aa58244c7"
      },
      "execution_count": null,
      "outputs": [
        {
          "output_type": "stream",
          "name": "stdout",
          "text": [
            "Percentile position (float): 3.6\n",
            "Lower index used: 3\n",
            "Interpolated 90th Percentile value: 46.0\n"
          ]
        }
      ]
    },
    {
      "cell_type": "markdown",
      "source": [
        "6"
      ],
      "metadata": {
        "id": "ThA-zPuowpiY"
      }
    },
    {
      "cell_type": "code",
      "source": [
        "def lower_bound(a):\n",
        "  a.sort()\n",
        "  n=len(a)\n",
        "  Q1 =int (25/100)*(n-1)\n",
        "  Q3 = int (75/100)*(n-1)\n",
        "  IQR = a[Q3]-a[Q1]\n",
        "  LB = a[Q1]-1.5*IQR\n",
        "  return LB\n",
        "a=[10,20,30,40,50]\n",
        "LB = lower_bound(a)\n",
        "print(\"LB:\",LB)"
      ],
      "metadata": {
        "colab": {
          "base_uri": "https://localhost:8080/"
        },
        "id": "wuRBbuEuwt5A",
        "outputId": "a203ab14-6647-4279-cf6e-02e6f56074c0"
      },
      "execution_count": null,
      "outputs": [
        {
          "output_type": "stream",
          "name": "stdout",
          "text": [
            "LB: 10.0\n"
          ]
        }
      ]
    },
    {
      "cell_type": "markdown",
      "source": [
        "7"
      ],
      "metadata": {
        "id": "TvmRhIND4wFY"
      }
    },
    {
      "cell_type": "code",
      "source": [
        "def outliers(a):\n",
        "    a = sorted(a)\n",
        "    n = len(a)\n",
        "\n",
        "    Q1_index = int(0.25 * (n - 1))\n",
        "    Q3_index = int(0.75 * (n - 1))\n",
        "\n",
        "    Q1 = a[Q1_index]\n",
        "    Q3 = a[Q3_index]\n",
        "    IQR = Q3 - Q1\n",
        "    LB = Q1 - 1.5 * IQR\n",
        "    UB = Q3 + 1.5 * IQR\n",
        "    return [x for x in a if x < LB or x > UB]\n",
        "a = [10, 20, 30, 40, 50, 100]\n",
        "print(\"Outliers:\", outliers(a))\n"
      ],
      "metadata": {
        "colab": {
          "base_uri": "https://localhost:8080/"
        },
        "id": "VQVXAuXv7QLg",
        "outputId": "2e13174d-e7bb-479a-ea4b-571573740b51"
      },
      "execution_count": null,
      "outputs": [
        {
          "output_type": "stream",
          "name": "stdout",
          "text": [
            "Outliers: [100]\n"
          ]
        }
      ]
    },
    {
      "cell_type": "markdown",
      "source": [
        "8"
      ],
      "metadata": {
        "id": "SZugBmQL8XPI"
      }
    },
    {
      "cell_type": "code",
      "source": [
        "def standard_deviation(a):\n",
        "  a.sort\n",
        "  b=len(a)\n",
        "  mean=(sum(a)/b)\n",
        "  c=sum((x-mean)**2 for x in a)/(b-1)\n",
        "# d=c/z-1\n",
        "# print(\"Variance:\",c)\n",
        "  sd = c**0.5\n",
        "  return sd\n",
        "a=[10,20,30,40,50]\n",
        "sd=standard_deviation(a)\n",
        "print(\"Standard Deviation:\",sd)\n"
      ],
      "metadata": {
        "colab": {
          "base_uri": "https://localhost:8080/"
        },
        "id": "1bmhuMsK7lLQ",
        "outputId": "fb436b01-734f-49c5-a22d-e2b831c7d354"
      },
      "execution_count": null,
      "outputs": [
        {
          "output_type": "stream",
          "name": "stdout",
          "text": [
            "Standard Deviation: 15.811388300841896\n"
          ]
        }
      ]
    },
    {
      "cell_type": "markdown",
      "source": [
        "9"
      ],
      "metadata": {
        "id": "0qYEbPzw91fY"
      }
    },
    {
      "cell_type": "code",
      "source": [
        "def z_score(a):\n",
        "  mean=sum(a)/len(a)\n",
        "  sd=standard_deviation(a)\n",
        "  z=[(x-mean)/sd for x in a]\n",
        "  return z\n",
        "a=[10,20,30,40,50]\n",
        "z=z_score(a)\n",
        "print(\"Z-score:\",z)\n"
      ],
      "metadata": {
        "colab": {
          "base_uri": "https://localhost:8080/"
        },
        "id": "LpCSQbPm91Pp",
        "outputId": "ca5be208-d218-47b6-92f4-f7e229e798e9"
      },
      "execution_count": null,
      "outputs": [
        {
          "output_type": "stream",
          "name": "stdout",
          "text": [
            "Z-score: [-1.2649110640673518, -0.6324555320336759, 0.0, 0.6324555320336759, 1.2649110640673518]\n"
          ]
        }
      ]
    },
    {
      "cell_type": "code",
      "source": [],
      "metadata": {
        "id": "4RJBjI1I9gfJ"
      },
      "execution_count": null,
      "outputs": []
    }
  ]
}